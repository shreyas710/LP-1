{
  "nbformat": 4,
  "nbformat_minor": 0,
  "metadata": {
    "colab": {
      "name": "AIR Assign 4.ipynb",
      "provenance": [],
      "collapsed_sections": []
    },
    "kernelspec": {
      "name": "python3",
      "display_name": "Python 3"
    },
    "language_info": {
      "name": "python"
    }
  },
  "cells": [
    {
      "cell_type": "markdown",
      "source": [
        "# Backtracking"
      ],
      "metadata": {
        "id": "51tfCwOelTL5"
      }
    },
    {
      "cell_type": "code",
      "metadata": {
        "colab": {
          "base_uri": "https://localhost:8080/"
        },
        "id": "E1d_ZJyMQLhj",
        "outputId": "22add411-482d-4b69-d68f-e52cb6953bfa"
      },
      "source": [
        "#Number of queens\n",
        "print (\"Enter the number of queens\")\n",
        "N = int(input())\n",
        "\n",
        "#chessboard\n",
        "#NxN matrix with all elements 0\n",
        "board = [[0]*N for _ in range(N)]\n",
        "\n",
        "def is_attack(i, j):\n",
        "    #checking if there is a queen in row or column\n",
        "    for k in range(0,N):\n",
        "        if board[i][k]==1 or board[k][j]==1:\n",
        "            return True\n",
        "    #checking diagonals\n",
        "    for k in range(0,N):\n",
        "        for l in range(0,N):\n",
        "            if (k+l==i+j) or (k-l==i-j):\n",
        "                if board[k][l]==1:\n",
        "                    return True\n",
        "    return False\n",
        "\n",
        "def N_queen(n):\n",
        "    #if n is 0, solution found\n",
        "    if n==0:\n",
        "        return True\n",
        "    for i in range(0,N):\n",
        "        for j in range(0,N):\n",
        "            '''checking if we can place a queen here or not\n",
        "            queen will not be placed if the place is being attacked\n",
        "            or already occupied'''\n",
        "            if (not(is_attack(i,j))) and (board[i][j]!=1):\n",
        "                board[i][j] = 1\n",
        "                #recursion\n",
        "                #wether we can put the next queen with this arrangment or not\n",
        "                if N_queen(n-1)==True:\n",
        "                    return True\n",
        "                board[i][j] = 0\n",
        "\n",
        "    return False\n",
        "\n",
        "stat = N_queen(N)\n",
        "\n",
        "if stat == True:\n",
        "    for i in board:\n",
        "        print (i)\n",
        "\n",
        "else:\n",
        "    print(\"No result possible\")"
      ],
      "execution_count": null,
      "outputs": [
        {
          "output_type": "stream",
          "name": "stdout",
          "text": [
            "Enter the number of queens\n",
            "8\n",
            "[1, 0, 0, 0, 0, 0, 0, 0]\n",
            "[0, 0, 0, 0, 1, 0, 0, 0]\n",
            "[0, 0, 0, 0, 0, 0, 0, 1]\n",
            "[0, 0, 0, 0, 0, 1, 0, 0]\n",
            "[0, 0, 1, 0, 0, 0, 0, 0]\n",
            "[0, 0, 0, 0, 0, 0, 1, 0]\n",
            "[0, 1, 0, 0, 0, 0, 0, 0]\n",
            "[0, 0, 0, 1, 0, 0, 0, 0]\n"
          ]
        }
      ]
    },
    {
      "cell_type": "markdown",
      "source": [
        "# Branch and Bound"
      ],
      "metadata": {
        "id": "HrlFQyzilWia"
      }
    },
    {
      "cell_type": "code",
      "source": [
        "N = 4\n",
        " \n",
        "\"\"\" A utility function to prsolution \"\"\"\n",
        "def printSolution(board):\n",
        "    for i in range(N):\n",
        "        for j in range(N):\n",
        "            print(board[i][j], end = \" \")\n",
        "        print()\n",
        " \n",
        "\"\"\" A Optimized function to check if\n",
        "a queen can be placed on board[row][col] \"\"\"\n",
        "def isSafe(row, col, slashCode, backslashCode,\n",
        "           rowLookup, slashCodeLookup,\n",
        "                       backslashCodeLookup):\n",
        "    if (slashCodeLookup[slashCode[row][col]] or\n",
        "        backslashCodeLookup[backslashCode[row][col]] or\n",
        "        rowLookup[row]):\n",
        "        return False\n",
        "    return True\n",
        " \n",
        "\"\"\" A recursive utility function\n",
        "   to solve N Queen problem \"\"\"\n",
        "def solveNQueensUtil(board, col, slashCode, backslashCode,\n",
        "                     rowLookup, slashCodeLookup,\n",
        "                     backslashCodeLookup):\n",
        "                         \n",
        "    \"\"\" base case: If all queens are\n",
        "       placed then return True \"\"\"\n",
        "    if(col >= N):\n",
        "        return True\n",
        "    for i in range(N):\n",
        "        if(isSafe(i, col, slashCode, backslashCode,\n",
        "                  rowLookup, slashCodeLookup,\n",
        "                  backslashCodeLookup)):\n",
        "                     \n",
        "            \"\"\" Place this queen in board[i][col] \"\"\"\n",
        "            board[i][col] = 1\n",
        "            rowLookup[i] = True\n",
        "            slashCodeLookup[slashCode[i][col]] = True\n",
        "            backslashCodeLookup[backslashCode[i][col]] = True\n",
        "             \n",
        "            \"\"\" recur to place rest of the queens \"\"\"\n",
        "            if(solveNQueensUtil(board, col + 1,\n",
        "                                slashCode, backslashCode,\n",
        "                                rowLookup, slashCodeLookup,\n",
        "                                backslashCodeLookup)):\n",
        "                return True\n",
        "             \n",
        "            \"\"\" If placing queen in board[i][col]\n",
        "            doesn't lead to a solution,then backtrack \"\"\"\n",
        "             \n",
        "            \"\"\" Remove queen from board[i][col] \"\"\"\n",
        "            board[i][col] = 0\n",
        "            rowLookup[i] = False\n",
        "            slashCodeLookup[slashCode[i][col]] = False\n",
        "            backslashCodeLookup[backslashCode[i][col]] = False\n",
        "             \n",
        "    \"\"\" If queen can not be place in any row in\n",
        "    this column col then return False \"\"\"\n",
        "    return False\n",
        " \n",
        "\"\"\" This function solves the N Queen problem using\n",
        "Branch or Bound. It mainly uses solveNQueensUtil()to\n",
        "solve the problem. It returns False if queens\n",
        "cannot be placed,otherwise return True or\n",
        "prints placement of queens in the form of 1s.\n",
        "Please note that there may be more than one\n",
        "solutions,this function prints one of the\n",
        "feasible solutions.\"\"\"\n",
        "def solveNQueens():\n",
        "    board = [[0 for i in range(N)]\n",
        "                for j in range(N)]\n",
        "     \n",
        "    # helper matrices\n",
        "    slashCode = [[0 for i in range(N)]\n",
        "                    for j in range(N)]\n",
        "    backslashCode = [[0 for i in range(N)]\n",
        "                        for j in range(N)]\n",
        "     \n",
        "    # arrays to tell us which rows are occupied\n",
        "    rowLookup = [False] * N\n",
        "     \n",
        "    # keep two arrays to tell us\n",
        "    # which diagonals are occupied\n",
        "    x = 2 * N - 1\n",
        "    slashCodeLookup = [False] * x\n",
        "    backslashCodeLookup = [False] * x\n",
        "     \n",
        "    # initialize helper matrices\n",
        "    for rr in range(N):\n",
        "        for cc in range(N):\n",
        "            slashCode[rr][cc] = rr + cc\n",
        "            backslashCode[rr][cc] = rr - cc + (N-1)\n",
        "     \n",
        "    if(solveNQueensUtil(board, 0, slashCode, backslashCode,\n",
        "                        rowLookup, slashCodeLookup,\n",
        "                        backslashCodeLookup) == False):\n",
        "        print(\"Solution does not exist\")\n",
        "        return False\n",
        "         \n",
        "    # solution found\n",
        "    printSolution(board)\n",
        "    return True\n",
        " \n",
        "# Driver Cde\n",
        "solveNQueens()"
      ],
      "metadata": {
        "colab": {
          "base_uri": "https://localhost:8080/"
        },
        "id": "TDITrhvOlavV",
        "outputId": "e888b67d-e3d7-44c9-f9b1-a6c0184f0736"
      },
      "execution_count": null,
      "outputs": [
        {
          "output_type": "stream",
          "name": "stdout",
          "text": [
            "0 0 1 0 \n",
            "1 0 0 0 \n",
            "0 0 0 1 \n",
            "0 1 0 0 \n"
          ]
        },
        {
          "output_type": "execute_result",
          "data": {
            "text/plain": [
              "True"
            ]
          },
          "metadata": {},
          "execution_count": 11
        }
      ]
    }
  ]
}